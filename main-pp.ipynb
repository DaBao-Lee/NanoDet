{
 "cells": [
  {
   "cell_type": "code",
   "execution_count": null,
   "id": "1034935d",
   "metadata": {},
   "outputs": [],
   "source": [
    "# %python310% tools/train.py -c ./configs/centernet/centernet_mbv3_small_140e_coco.yml --eval --use_vdl=False --vdl_log_dir=\"./output/vdl_log\" --resume=\"./output/69.pdparams\""
   ]
  },
  {
   "cell_type": "code",
   "execution_count": null,
   "id": "bc01170b",
   "metadata": {},
   "outputs": [],
   "source": [
    "# %python310% tools/train.py -c ./configs/picodet/picodet_s_320_coco_lcnet.yml --eval --use_vdl=False --vdl_log_dir=\"./output\" --resume=\"./output/best_model/model.pdparams\" \n",
    "# %python310% tools/train.py -c ./configs/picodet/picodet_s_320_coco_lcnet.yml --eval --use_vdl=False --vdl_log_dir=\"./output/vdl_log\" --resume=\"./output/179.pdparams\" "
   ]
  },
  {
   "cell_type": "code",
   "execution_count": null,
   "id": "0ae9b24a",
   "metadata": {},
   "outputs": [],
   "source": [
    "# %python310% tools/train.py -c ./configs/ssd/ssdlite_mobilenet_v3_small_320_coco.yml --eval --use_vdl=False --vdl_log_dir=\"./output/vdl_log\" --resume=\"./output/149.pdparams\""
   ]
  },
  {
   "cell_type": "code",
   "execution_count": null,
   "id": "883f20bc",
   "metadata": {},
   "outputs": [],
   "source": [
    "# !python tools/infer.py -c /home/aistudio/PaddleDetection/configs/picodet/picodet_s_320_coco_lcnet.yml \\\n",
    "#                     --infer_img=/home/aistudio/data/images/00002.jpg \\\n",
    "#                     --output_dir=infer_output/ \\\n",
    "#                     --draw_threshold=0.5 \\\n",
    "#                     -o weights=/home/aistudio/PaddleDetection/output/best_model/model.pdparams \\\n",
    "#                     --use_vdl=Ture"
   ]
  },
  {
   "cell_type": "code",
   "execution_count": null,
   "id": "699506df",
   "metadata": {},
   "outputs": [],
   "source": [
    "! %python310% ./tools/eval.py -c ./configs/centernet/centernet_mbv3_small_140e_coco.yml  -o weights=./output/best_model/model.pdparams"
   ]
  },
  {
   "cell_type": "code",
   "execution_count": null,
   "id": "fa6964ba",
   "metadata": {},
   "outputs": [],
   "source": [
    "! %python310% ./tools/infer.py --config ./configs/ssd/ssdlite_mobilenet_v3_small_320_coco.yml --infer_dir=./tt_final -o weights=./output/ssd/best_model.pdparams --output_dir=infer_output/ssd/ --draw_threshold  0.5"
   ]
  },
  {
   "cell_type": "code",
   "execution_count": null,
   "id": "d4bb7eb3",
   "metadata": {},
   "outputs": [],
   "source": [
    "%python310% ./tools/export_model.py -c ./configs/ssd/ssdlite_mobilenet_v3_small_320_coco.yml -o weights=./output/best_model.pdparams TestReader.fuse_normalize=true"
   ]
  },
  {
   "cell_type": "code",
   "execution_count": null,
   "id": "d07ec275",
   "metadata": {},
   "outputs": [],
   "source": [
    "# loading annotations into memory...\n",
    "# Done (t=0.02s)\n",
    "# creating index...\n",
    "# index created!\n",
    "# [05/22 15:19:09] ppdet.metrics.coco_utils INFO: Start evaluate...\n",
    "# Loading and preparing results...\n",
    "# DONE (t=0.37s)\n",
    "# creating index...\n",
    "# index created!\n",
    "# Running per image evaluation...\n",
    "# Evaluate annotation type *bbox*\n",
    "# DONE (t=2.49s).\n",
    "# Accumulating evaluation results...\n",
    "# DONE (t=0.55s).\n",
    "#  Average Precision  (AP) @[ IoU=0.50:0.95 | area=   all | maxDets=100 ] = 0.728\n",
    "#  Average Precision  (AP) @[ IoU=0.50      | area=   all | maxDets=100 ] = 0.962\n",
    "#  Average Precision  (AP) @[ IoU=0.75      | area=   all | maxDets=100 ] = 0.829\n",
    "#  Average Precision  (AP) @[ IoU=0.50:0.95 | area= small | maxDets=100 ] = 0.086\n",
    "#  Average Precision  (AP) @[ IoU=0.50:0.95 | area=medium | maxDets=100 ] = 0.310\n",
    "#  Average Precision  (AP) @[ IoU=0.50:0.95 | area= large | maxDets=100 ] = 0.770\n",
    "#  Average Recall     (AR) @[ IoU=0.50:0.95 | area=   all | maxDets=  1 ] = 0.693\n",
    "#  Average Recall     (AR) @[ IoU=0.50:0.95 | area=   all | maxDets= 10 ] = 0.776\n",
    "#  Average Recall     (AR) @[ IoU=0.50:0.95 | area=   all | maxDets=100 ] = 0.777\n",
    "#  Average Recall     (AR) @[ IoU=0.50:0.95 | area= small | maxDets=100 ] = 0.375\n",
    "#  Average Recall     (AR) @[ IoU=0.50:0.95 | area=medium | maxDets=100 ] = 0.489\n",
    "#  Average Recall     (AR) @[ IoU=0.50:0.95 | area= large | maxDets=100 ] = 0.813\n",
    "# [05/22 15:19:13] ppdet.engine.callbacks INFO: Total sample number: 3999, average FPS: 42.51386890184545\n",
    "# [05/22 15:19:13] ppdet.engine INFO: Best test bbox ap is 0.734.\n"
   ]
  },
  {
   "cell_type": "code",
   "execution_count": null,
   "id": "abaa7c9a",
   "metadata": {},
   "outputs": [],
   "source": [
    "! %python310%  tools/export_model.py -c configs/picodet/picodet_s_320_coco_lcnet.yml -o weights=output/picodet/model_final.pdparams TestReader.fuse_normalize=true\n"
   ]
  },
  {
   "cell_type": "code",
   "execution_count": null,
   "id": "7cc300eb",
   "metadata": {},
   "outputs": [],
   "source": [
    "from detect import *\n",
    "\n",
    "FLAGS = {\"config\":'./configs/ssd/ssdlite_mobilenet_v3_small_320_coco.yml',\n",
    "    \"opt\":{'weights': './output/ssd/best_model.pdparams'},\n",
    "    \"infer_dir\":'./tt_final',\n",
    "    \"infer_list\":None,\n",
    "    \"infer_img\":None,\n",
    "    \"output_dir\":'infer_output/ssd/',\n",
    "    \"draw_threshold\":0.5,\n",
    "    \"save_threshold\":0.5,\n",
    "    \"slim_config\":None,\n",
    "    \"use_vdl\":False,\n",
    "    \"do_eval\":False,\n",
    "    \"vdl_log_dir\":'vdl_log_dir/image',\n",
    "    \"save_results\":False,\n",
    "    \"slice_infer\":False,\n",
    "    \"slice_size\":[640, 640],\n",
    "    \"overlap_ratio\":[0.25, 0.25],\n",
    "    \"combine_method\":'nms',\n",
    "    \"match_threshold\":0.6,\n",
    "    \"match_metric\":'ios',\n",
    "    \"visualize\":True,\n",
    "    \"rtn_im_file\":False\n",
    "    }\n",
    "\n",
    "cfg = load_config(FLAGS['config'])\n",
    "merge_argsNew(cfg, FLAGS)\n",
    "merge_config(FLAGS['opt'])\n",
    "\n",
    "result = runNew(FLAGS, cfg)"
   ]
  },
  {
   "cell_type": "code",
   "execution_count": null,
   "id": "67fb0cfd",
   "metadata": {},
   "outputs": [],
   "source": [
    "result"
   ]
  }
 ],
 "metadata": {
  "kernelspec": {
   "display_name": "Python 3",
   "language": "python",
   "name": "python3"
  },
  "language_info": {
   "codemirror_mode": {
    "name": "ipython",
    "version": 3
   },
   "file_extension": ".py",
   "mimetype": "text/x-python",
   "name": "python",
   "nbconvert_exporter": "python",
   "pygments_lexer": "ipython3",
   "version": "3.10.0"
  }
 },
 "nbformat": 4,
 "nbformat_minor": 5
}
