{
 "cells": [
  {
   "cell_type": "code",
   "execution_count": null,
   "id": "01de177e",
   "metadata": {},
   "outputs": [],
   "source": [
    "# D:\\A\\python\\PP\\nanodet\\   config\\nanodet-plus-m_320.yml\n",
    "\n",
    "# %python310% tools/train.py ./config/nanodet-plus-m_320.yml"
   ]
  },
  {
   "cell_type": "code",
   "execution_count": null,
   "id": "62f748cd-1eb9-4269-932d-67290083d3fc",
   "metadata": {},
   "outputs": [],
   "source": [
    "%python310% tools/train.py ./config/nanodet-plus-m_320.yml"
   ]
  },
  {
   "cell_type": "code",
   "execution_count": null,
   "id": "cc4c92fd",
   "metadata": {},
   "outputs": [],
   "source": [
    "! python demo/demo.py image --config ./config/nanodet-plus-m_320.yml --model ./workspace/nanodet-plus-m_320/model_best/model_best.ckpt --path ./tt_final --save_result"
   ]
  },
  {
   "cell_type": "code",
   "execution_count": null,
   "id": "7fadfa7d-9e0a-42f3-bd21-58afa8fac08f",
   "metadata": {},
   "outputs": [],
   "source": [
    "! %python310% ./tools/test.py --config ./config/nanodet-plus-m_320.yml --model ./workspace/nanodet-plus-m_320/model_best/model_best.ckpt"
   ]
  },
  {
   "cell_type": "code",
   "execution_count": null,
   "id": "6fc29c5d",
   "metadata": {},
   "outputs": [],
   "source": [
    "! %python310% ./tools/flops.py ./config/nanodet-plus-m_320.yml "
   ]
  },
  {
   "cell_type": "code",
   "execution_count": null,
   "id": "37be9b86",
   "metadata": {},
   "outputs": [],
   "source": [
    "! python demo/demo.py image --config ./config/nanodet-plus-m_320.yml --model ./workspace/nanodet-plus-m_320/model_best/model_best.ckpt --path ./tt_final --save_result\n"
   ]
  },
  {
   "cell_type": "code",
   "execution_count": 1,
   "id": "b9bbfc09",
   "metadata": {},
   "outputs": [
    {
     "name": "stdout",
     "output_type": "stream",
     "text": [
      "model size is  1.0x\n",
      "init weights...\n",
      "=> loading pretrained model https://download.pytorch.org/models/shufflenetv2_x1-5666bf0f80.pth\n",
      "Finish initialize NanoDet-Plus Head.\n"
     ]
    },
    {
     "name": "stderr",
     "output_type": "stream",
     "text": [
      "\u001b[1m\u001b[35m[root]\u001b[0m\u001b[34m[07-12 11:59:32]\u001b[0m\u001b[32mINFO:\u001b[0m\u001b[97mPress \"Esc\", \"q\" or \"Q\" to exit.\u001b[0m\n"
     ]
    },
    {
     "name": "stdout",
     "output_type": "stream",
     "text": [
      "forward time: 0.476s | decode time: 0.125s | viz time: 0.023s\n",
      "forward time: 0.012s | decode time: 0.003s | viz time: 0.000s\n"
     ]
    },
    {
     "name": "stderr",
     "output_type": "stream",
     "text": [
      "c:\\Users\\Administrator\\AppData\\Local\\Programs\\Python\\Python312\\Lib\\site-packages\\torch\\functional.py:554: UserWarning: torch.meshgrid: in an upcoming release, it will be required to pass the indexing argument. (Triggered internally at C:\\actions-runner\\_work\\pytorch\\pytorch\\pytorch\\aten\\src\\ATen\\native\\TensorShape.cpp:4316.)\n",
      "  return _VF.meshgrid(tensors, **kwargs)  # type: ignore[attr-defined]\n"
     ]
    },
    {
     "name": "stdout",
     "output_type": "stream",
     "text": [
      "forward time: 0.012s | decode time: 0.003s | viz time: 0.000s\n",
      "forward time: 0.016s | decode time: 0.002s | viz time: 0.000s\n"
     ]
    }
   ],
   "source": [
    "from detect import run\n",
    "\n",
    "result = run(demo=\"image\", config=\"./config/nanodet-plus-m_320.yml\", \n",
    "      model=\"./workspace/nanodet-plus-m_320/model_best/model_best.ckpt\",\n",
    "      path=\"./tt_final\", save_result=True, show_result=False)"
   ]
  }
 ],
 "metadata": {
  "kernelspec": {
   "display_name": "Python 3",
   "language": "python",
   "name": "python3"
  },
  "language_info": {
   "codemirror_mode": {
    "name": "ipython",
    "version": 3
   },
   "file_extension": ".py",
   "mimetype": "text/x-python",
   "name": "python",
   "nbconvert_exporter": "python",
   "pygments_lexer": "ipython3",
   "version": "3.12.0"
  }
 },
 "nbformat": 4,
 "nbformat_minor": 5
}
